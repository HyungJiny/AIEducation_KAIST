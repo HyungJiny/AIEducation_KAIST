{
 "cells": [
  {
   "cell_type": "code",
   "execution_count": 1,
   "metadata": {},
   "outputs": [],
   "source": [
    "import MeCab\n",
    "from mecab_split import mecabsplit # custom module"
   ]
  },
  {
   "cell_type": "code",
   "execution_count": 2,
   "metadata": {},
   "outputs": [],
   "source": [
    "tagger = MeCab.Tagger()"
   ]
  },
  {
   "cell_type": "code",
   "execution_count": 6,
   "metadata": {},
   "outputs": [
    {
     "name": "stdout",
     "output_type": "stream",
     "text": [
      "한라산\tNNP,지명,T,한라산,Compound,*,*,한라/NNG/*+산/NNG/*\n",
      "은\tJX,*,T,은,*,*,*,*\n",
      "대한민국\tNNP,지명,T,대한민국,Compound,*,*,대한/NNG/*+민국/NNG/*\n",
      "에서\tJKB,*,F,에서,*,*,*,*\n",
      "가장\tMAG,성분부사/정도부사,T,가장,*,*,*,*\n",
      "큰\tVA+ETM,*,T,큰,Inflect,VA,ETM,크/VA/*+ᆫ/ETM/*\n",
      "섬\tNNG,*,T,섬,*,*,*,*\n",
      " \tSY,*,*,*,*,*,*,*\n",
      "제주도\tNNP,지명,F,제주도,Compound,*,*,제주/NNG/*+도/NNG/*\n",
      "에\tJKB,*,F,에,*,*,*,*\n",
      "있\tVV,*,T,있,*,*,*,*\n",
      "으며\tEC,*,F,으며,*,*,*,*\n",
      " \tSY,*,*,*,*,*,*,*\n",
      "대한민국\tNNP,지명,T,대한민국,Compound,*,*,대한/NNG/*+민국/NNG/*\n",
      "의\tJKG,*,F,의,*,*,*,*\n",
      "실효\tNNG,*,F,실효,*,*,*,*\n",
      "지배\tNNG,*,F,지배,*,*,*,*\n",
      "영토\tNNG,*,F,영토,*,*,*,*\n",
      "내\tNNB,*,F,내,*,*,*,*\n",
      "의\tJKG,*,F,의,*,*,*,*\n",
      "최고봉\tNNG,*,T,최고봉,Compound,*,*,최고/NNG/*+봉/NNG/*\n",
      "이\tVCP,*,F,이,*,*,*,*\n",
      "자\tEC,*,F,자,*,*,*,*\n",
      "가장\tMAG,성분부사/정도부사,T,가장,*,*,*,*\n",
      "높\tVA,*,T,높,*,*,*,*\n",
      "은\tETM,*,T,은,*,*,*,*\n",
      " \tSY,*,*,*,*,*,*,*\n",
      "산\tNNG,*,T,산,*,*,*,*\n",
      "(\tSSO,*,*,*,*,*,*,*\n",
      "해발\tNNG,*,T,해발,*,*,*,*\n",
      "1947\tSN,*,*,*,*,*,*,*\n",
      "미터\tNNBC,*,F,미터,*,*,*,*\n",
      ")\tSSC,*,*,*,*,*,*,*\n",
      ".\tSF,*,*,*,*,*,*,*\n",
      " \tSY,*,*,*,*,*,*,*\n",
      "대한민국\tNNP,지명,T,대한민국,Compound,*,*,대한/NNG/*+민국/NNG/*\n",
      "의\tJKG,*,F,의,*,*,*,*\n",
      " \tSY,*,*,*,*,*,*,*\n",
      "국립\tNNG,*,T,국립,*,*,*,*\n",
      "공원\tNNG,*,T,공원,*,*,*,*\n",
      " \tSY,*,*,*,*,*,*,*\n",
      "중\tNNB,*,T,중,*,*,*,*\n",
      "하나\tNR,*,F,하나,*,*,*,*\n",
      "이\tVCP,*,F,이,*,*,*,*\n",
      "다\tEF,*,F,다,*,*,*,*\n",
      ".\tSF,*,*,*,*,*,*,*\n",
      "EOS\n",
      "\n"
     ]
    }
   ],
   "source": [
    "sentence = '한라산은 대한민국에서 가장 큰 섬 제주도에 있으며 대한민국의 실효지배 영토 내의 최고봉이자 가장 높은 산(해발 1947미터). 대한민국의 국립공원 중 하나이다.'\n",
    "\n",
    "print (tagger.parse(sentence))"
   ]
  },
  {
   "cell_type": "code",
   "execution_count": null,
   "metadata": {
    "scrolled": true
   },
   "outputs": [],
   "source": [
    "sentence = '한국어 품사태깅 테스트'\n",
    "print (tagger.parse(sentence))"
   ]
  },
  {
   "cell_type": "code",
   "execution_count": null,
   "metadata": {},
   "outputs": [],
   "source": [
    "print (mecabsplit(tagger,sentence,False))\n",
    "print (mecabsplit(tagger,sentence,True))"
   ]
  },
  {
   "cell_type": "code",
   "execution_count": null,
   "metadata": {},
   "outputs": [],
   "source": [
    "sentence = '6일 기상청에 따르면 콩레이는 이날 낮 12시 40분 경북 포항 앞바다를 통해 동해에 진출했다.'\n",
    "print (tagger.parse(sentence))\n",
    "print (mecabsplit(tagger,sentence,False))\n",
    "print (mecabsplit(tagger,sentence,True))"
   ]
  },
  {
   "cell_type": "code",
   "execution_count": null,
   "metadata": {},
   "outputs": [],
   "source": []
  },
  {
   "cell_type": "code",
   "execution_count": null,
   "metadata": {},
   "outputs": [],
   "source": []
  }
 ],
 "metadata": {
  "kernelspec": {
   "display_name": "Python 3",
   "language": "python",
   "name": "python3"
  },
  "language_info": {
   "codemirror_mode": {
    "name": "ipython",
    "version": 3
   },
   "file_extension": ".py",
   "mimetype": "text/x-python",
   "name": "python",
   "nbconvert_exporter": "python",
   "pygments_lexer": "ipython3",
   "version": "3.6.4"
  }
 },
 "nbformat": 4,
 "nbformat_minor": 2
}
